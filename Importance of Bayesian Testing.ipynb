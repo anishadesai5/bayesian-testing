{
 "cells": [
  {
   "cell_type": "code",
   "execution_count": 1,
   "metadata": {},
   "outputs": [],
   "source": [
    "import pandas as pd\n",
    "import numpy as np\n",
    "import datetime\n",
    "from scipy.stats import chi2_contingency, beta\n",
    "from IPython.display import Image"
   ]
  },
  {
   "cell_type": "markdown",
   "metadata": {},
   "source": [
    "# Data Collection"
   ]
  },
  {
   "cell_type": "code",
   "execution_count": 3,
   "metadata": {},
   "outputs": [],
   "source": [
    "df = pd.read_csv('ab_data.csv')"
   ]
  },
  {
   "cell_type": "code",
   "execution_count": 4,
   "metadata": {},
   "outputs": [
    {
     "data": {
      "text/html": [
       "<div>\n",
       "<style scoped>\n",
       "    .dataframe tbody tr th:only-of-type {\n",
       "        vertical-align: middle;\n",
       "    }\n",
       "\n",
       "    .dataframe tbody tr th {\n",
       "        vertical-align: top;\n",
       "    }\n",
       "\n",
       "    .dataframe thead th {\n",
       "        text-align: right;\n",
       "    }\n",
       "</style>\n",
       "<table border=\"1\" class=\"dataframe\">\n",
       "  <thead>\n",
       "    <tr style=\"text-align: right;\">\n",
       "      <th></th>\n",
       "      <th>user_id</th>\n",
       "      <th>timestamp</th>\n",
       "      <th>group</th>\n",
       "      <th>landing_page</th>\n",
       "      <th>converted</th>\n",
       "    </tr>\n",
       "  </thead>\n",
       "  <tbody>\n",
       "    <tr>\n",
       "      <th>205553</th>\n",
       "      <td>858699</td>\n",
       "      <td>2017-01-05 00:15:20.887122</td>\n",
       "      <td>control</td>\n",
       "      <td>old_page</td>\n",
       "      <td>0</td>\n",
       "    </tr>\n",
       "    <tr>\n",
       "      <th>153556</th>\n",
       "      <td>682788</td>\n",
       "      <td>2017-01-03 03:09:16.756344</td>\n",
       "      <td>treatment</td>\n",
       "      <td>new_page</td>\n",
       "      <td>0</td>\n",
       "    </tr>\n",
       "  </tbody>\n",
       "</table>\n",
       "</div>"
      ],
      "text/plain": [
       "        user_id                   timestamp      group landing_page  converted\n",
       "205553   858699  2017-01-05 00:15:20.887122    control     old_page          0\n",
       "153556   682788  2017-01-03 03:09:16.756344  treatment     new_page          0"
      ]
     },
     "execution_count": 4,
     "metadata": {},
     "output_type": "execute_result"
    }
   ],
   "source": [
    "df.sample(2)"
   ]
  },
  {
   "cell_type": "code",
   "execution_count": 8,
   "metadata": {},
   "outputs": [
    {
     "name": "stdout",
     "output_type": "stream",
     "text": [
      "Number of unique users in experiment:290584\n",
      "Data collected for 21 days\n",
      "Landing pages to compare : ['old_page', 'new_page']\n",
      "Percentage of users in control : 50%\n"
     ]
    }
   ],
   "source": [
    "start_time = datetime.datetime.strptime(df['timestamp'].min(), '%Y-%m-%d %H:%M:%S.%f')\n",
    "end_time = datetime.datetime.strptime(df['timestamp'].max(), '%Y-%m-%d %H:%M:%S.%f')\n",
    "data_duration = (end_time - start_time).days\n",
    "\n",
    "print(f\"Number of unique users in experiment:{df['user_id'].nunique()}\")\n",
    "print(f\"Data collected for {data_duration} days\")\n",
    "print(f\"Landing pages to compare : {df['landing_page'].unique().tolist()}\")\n",
    "print(f\"Percentage of users in control : {round(df[df['group'] == 'control'].shape[0]*100/df.shape[0])}%\")\n"
   ]
  },
  {
   "cell_type": "markdown",
   "metadata": {},
   "source": [
    "# Data Processing"
   ]
  },
  {
   "cell_type": "markdown",
   "metadata": {},
   "source": [
    "there are some repeated exposures for some users"
   ]
  },
  {
   "cell_type": "code",
   "execution_count": 9,
   "metadata": {
    "scrolled": false
   },
   "outputs": [
    {
     "data": {
      "text/html": [
       "<div>\n",
       "<style scoped>\n",
       "    .dataframe tbody tr th:only-of-type {\n",
       "        vertical-align: middle;\n",
       "    }\n",
       "\n",
       "    .dataframe tbody tr th {\n",
       "        vertical-align: top;\n",
       "    }\n",
       "\n",
       "    .dataframe thead th {\n",
       "        text-align: right;\n",
       "    }\n",
       "</style>\n",
       "<table border=\"1\" class=\"dataframe\">\n",
       "  <thead>\n",
       "    <tr style=\"text-align: right;\">\n",
       "      <th></th>\n",
       "      <th>user_id</th>\n",
       "      <th>timestamp</th>\n",
       "      <th>group</th>\n",
       "      <th>landing_page</th>\n",
       "      <th>converted</th>\n",
       "    </tr>\n",
       "  </thead>\n",
       "  <tbody>\n",
       "    <tr>\n",
       "      <th>29073</th>\n",
       "      <td>746755</td>\n",
       "      <td>2017-01-11 01:28:57.083669</td>\n",
       "      <td>control</td>\n",
       "      <td>new_page</td>\n",
       "      <td>1</td>\n",
       "    </tr>\n",
       "    <tr>\n",
       "      <th>105487</th>\n",
       "      <td>722274</td>\n",
       "      <td>2017-01-19 01:46:53.093257</td>\n",
       "      <td>control</td>\n",
       "      <td>old_page</td>\n",
       "      <td>0</td>\n",
       "    </tr>\n",
       "    <tr>\n",
       "      <th>262554</th>\n",
       "      <td>722274</td>\n",
       "      <td>2017-01-09 21:21:23.638444</td>\n",
       "      <td>control</td>\n",
       "      <td>new_page</td>\n",
       "      <td>0</td>\n",
       "    </tr>\n",
       "    <tr>\n",
       "      <th>286566</th>\n",
       "      <td>746755</td>\n",
       "      <td>2017-01-05 03:40:08.457451</td>\n",
       "      <td>control</td>\n",
       "      <td>old_page</td>\n",
       "      <td>0</td>\n",
       "    </tr>\n",
       "  </tbody>\n",
       "</table>\n",
       "</div>"
      ],
      "text/plain": [
       "        user_id                   timestamp    group landing_page  converted\n",
       "29073    746755  2017-01-11 01:28:57.083669  control     new_page          1\n",
       "105487   722274  2017-01-19 01:46:53.093257  control     old_page          0\n",
       "262554   722274  2017-01-09 21:21:23.638444  control     new_page          0\n",
       "286566   746755  2017-01-05 03:40:08.457451  control     old_page          0"
      ]
     },
     "execution_count": 9,
     "metadata": {},
     "output_type": "execute_result"
    }
   ],
   "source": [
    "sample = df[df['user_id'].isin([746755,722274])]\n",
    "sample"
   ]
  },
  {
   "cell_type": "markdown",
   "metadata": {},
   "source": [
    "Get timestamp of first exposure"
   ]
  },
  {
   "cell_type": "code",
   "execution_count": 10,
   "metadata": {},
   "outputs": [],
   "source": [
    "#1. get the timestamp of the first exposure\n",
    "first_conversion = sample.groupby('user_id')['timestamp'].min().to_frame().reset_index()\n",
    "sample = sample.merge(first_conversion, on=['user_id','timestamp'])"
   ]
  },
  {
   "cell_type": "code",
   "execution_count": 11,
   "metadata": {
    "scrolled": true
   },
   "outputs": [
    {
     "data": {
      "text/html": [
       "<div>\n",
       "<style scoped>\n",
       "    .dataframe tbody tr th:only-of-type {\n",
       "        vertical-align: middle;\n",
       "    }\n",
       "\n",
       "    .dataframe tbody tr th {\n",
       "        vertical-align: top;\n",
       "    }\n",
       "\n",
       "    .dataframe thead th {\n",
       "        text-align: right;\n",
       "    }\n",
       "</style>\n",
       "<table border=\"1\" class=\"dataframe\">\n",
       "  <thead>\n",
       "    <tr style=\"text-align: right;\">\n",
       "      <th></th>\n",
       "      <th>user_id</th>\n",
       "      <th>timestamp</th>\n",
       "      <th>group</th>\n",
       "      <th>landing_page</th>\n",
       "      <th>converted</th>\n",
       "    </tr>\n",
       "  </thead>\n",
       "  <tbody>\n",
       "    <tr>\n",
       "      <th>0</th>\n",
       "      <td>722274</td>\n",
       "      <td>2017-01-09 21:21:23.638444</td>\n",
       "      <td>control</td>\n",
       "      <td>new_page</td>\n",
       "      <td>0</td>\n",
       "    </tr>\n",
       "    <tr>\n",
       "      <th>1</th>\n",
       "      <td>746755</td>\n",
       "      <td>2017-01-05 03:40:08.457451</td>\n",
       "      <td>control</td>\n",
       "      <td>old_page</td>\n",
       "      <td>0</td>\n",
       "    </tr>\n",
       "  </tbody>\n",
       "</table>\n",
       "</div>"
      ],
      "text/plain": [
       "   user_id                   timestamp    group landing_page  converted\n",
       "0   722274  2017-01-09 21:21:23.638444  control     new_page          0\n",
       "1   746755  2017-01-05 03:40:08.457451  control     old_page          0"
      ]
     },
     "execution_count": 11,
     "metadata": {},
     "output_type": "execute_result"
    }
   ],
   "source": [
    "sample"
   ]
  },
  {
   "cell_type": "markdown",
   "metadata": {},
   "source": [
    "See how many users have multiple buckets. If not many, remove them"
   ]
  },
  {
   "cell_type": "code",
   "execution_count": 13,
   "metadata": {
    "scrolled": true
   },
   "outputs": [
    {
     "data": {
      "text/plain": [
       "False    286690\n",
       "True       3894\n",
       "Name: user_id, dtype: int64"
      ]
     },
     "execution_count": 13,
     "metadata": {},
     "output_type": "execute_result"
    }
   ],
   "source": [
    "counter = df['user_id'].value_counts()\n",
    "(counter > 1).value_counts()"
   ]
  },
  {
   "cell_type": "markdown",
   "metadata": {},
   "source": [
    "3894 (1.34%) user_ids have been exposed to the old AND new page. It should be okay to remove them"
   ]
  },
  {
   "cell_type": "code",
   "execution_count": 15,
   "metadata": {},
   "outputs": [
    {
     "data": {
      "text/html": [
       "<div>\n",
       "<style scoped>\n",
       "    .dataframe tbody tr th:only-of-type {\n",
       "        vertical-align: middle;\n",
       "    }\n",
       "\n",
       "    .dataframe tbody tr th {\n",
       "        vertical-align: top;\n",
       "    }\n",
       "\n",
       "    .dataframe thead th {\n",
       "        text-align: right;\n",
       "    }\n",
       "</style>\n",
       "<table border=\"1\" class=\"dataframe\">\n",
       "  <thead>\n",
       "    <tr style=\"text-align: right;\">\n",
       "      <th></th>\n",
       "      <th>user_id</th>\n",
       "      <th>timestamp</th>\n",
       "      <th>group</th>\n",
       "      <th>landing_page</th>\n",
       "      <th>converted</th>\n",
       "    </tr>\n",
       "  </thead>\n",
       "  <tbody>\n",
       "    <tr>\n",
       "      <th>0</th>\n",
       "      <td>851104</td>\n",
       "      <td>2017-01-21 22:11:48.556739</td>\n",
       "      <td>control</td>\n",
       "      <td>old_page</td>\n",
       "      <td>0</td>\n",
       "    </tr>\n",
       "    <tr>\n",
       "      <th>1</th>\n",
       "      <td>804228</td>\n",
       "      <td>2017-01-12 08:01:45.159739</td>\n",
       "      <td>control</td>\n",
       "      <td>old_page</td>\n",
       "      <td>0</td>\n",
       "    </tr>\n",
       "    <tr>\n",
       "      <th>2</th>\n",
       "      <td>661590</td>\n",
       "      <td>2017-01-11 16:55:06.154213</td>\n",
       "      <td>treatment</td>\n",
       "      <td>new_page</td>\n",
       "      <td>0</td>\n",
       "    </tr>\n",
       "    <tr>\n",
       "      <th>3</th>\n",
       "      <td>853541</td>\n",
       "      <td>2017-01-08 18:28:03.143765</td>\n",
       "      <td>treatment</td>\n",
       "      <td>new_page</td>\n",
       "      <td>0</td>\n",
       "    </tr>\n",
       "    <tr>\n",
       "      <th>4</th>\n",
       "      <td>864975</td>\n",
       "      <td>2017-01-21 01:52:26.210827</td>\n",
       "      <td>control</td>\n",
       "      <td>old_page</td>\n",
       "      <td>1</td>\n",
       "    </tr>\n",
       "  </tbody>\n",
       "</table>\n",
       "</div>"
      ],
      "text/plain": [
       "   user_id                   timestamp      group landing_page  converted\n",
       "0   851104  2017-01-21 22:11:48.556739    control     old_page          0\n",
       "1   804228  2017-01-12 08:01:45.159739    control     old_page          0\n",
       "2   661590  2017-01-11 16:55:06.154213  treatment     new_page          0\n",
       "3   853541  2017-01-08 18:28:03.143765  treatment     new_page          0\n",
       "4   864975  2017-01-21 01:52:26.210827    control     old_page          1"
      ]
     },
     "execution_count": 15,
     "metadata": {},
     "output_type": "execute_result"
    }
   ],
   "source": [
    "#Remove users with multiple buckets\n",
    "valid_users = pd.DataFrame(counter[counter==1].index, columns=['user_id'])\n",
    "df = df.merge(valid_users, on = ['user_id'])\n",
    "df.head()"
   ]
  },
  {
   "cell_type": "code",
   "execution_count": 17,
   "metadata": {},
   "outputs": [
    {
     "data": {
      "text/html": [
       "<div>\n",
       "<style scoped>\n",
       "    .dataframe tbody tr th:only-of-type {\n",
       "        vertical-align: middle;\n",
       "    }\n",
       "\n",
       "    .dataframe tbody tr th {\n",
       "        vertical-align: top;\n",
       "    }\n",
       "\n",
       "    .dataframe thead th {\n",
       "        text-align: right;\n",
       "    }\n",
       "</style>\n",
       "<table border=\"1\" class=\"dataframe\">\n",
       "  <thead>\n",
       "    <tr style=\"text-align: right;\">\n",
       "      <th></th>\n",
       "      <th>user_id</th>\n",
       "      <th>timestamp</th>\n",
       "      <th>group</th>\n",
       "      <th>landing_page</th>\n",
       "      <th>converted</th>\n",
       "      <th>week</th>\n",
       "    </tr>\n",
       "  </thead>\n",
       "  <tbody>\n",
       "    <tr>\n",
       "      <th>226160</th>\n",
       "      <td>742372</td>\n",
       "      <td>2017-01-02 23:17:12.358322</td>\n",
       "      <td>control</td>\n",
       "      <td>old_page</td>\n",
       "      <td>0</td>\n",
       "      <td>1</td>\n",
       "    </tr>\n",
       "  </tbody>\n",
       "</table>\n",
       "</div>"
      ],
      "text/plain": [
       "        user_id                   timestamp    group landing_page  converted  \\\n",
       "226160   742372  2017-01-02 23:17:12.358322  control     old_page          0   \n",
       "\n",
       "        week  \n",
       "226160     1  "
      ]
     },
     "execution_count": 17,
     "metadata": {},
     "output_type": "execute_result"
    }
   ],
   "source": [
    "# Add week column to see the data as you would during experiment\n",
    "df['week'] = df['timestamp'].apply(lambda x: datetime.datetime.strptime(x, '%Y-%m-%d %H:%M:%S.%f').isocalendar()[1])\n",
    "df.sample()\n"
   ]
  },
  {
   "cell_type": "code",
   "execution_count": 18,
   "metadata": {},
   "outputs": [
    {
     "data": {
      "text/plain": [
       "2    91380\n",
       "3    91056\n",
       "1    83745\n",
       "4    20509\n",
       "Name: week, dtype: int64"
      ]
     },
     "execution_count": 18,
     "metadata": {},
     "output_type": "execute_result"
    }
   ],
   "source": [
    "df['week'].value_counts()"
   ]
  },
  {
   "cell_type": "markdown",
   "metadata": {},
   "source": [
    "# Experiment: Frequentist Approach"
   ]
  },
  {
   "cell_type": "code",
   "execution_count": 25,
   "metadata": {},
   "outputs": [
    {
     "name": "stdout",
     "output_type": "stream",
     "text": [
      "Treatment Conversion Rate: 11.873%\n",
      "Control Conversion Rate: 12.017%\n",
      "Lift = -0.144%\n"
     ]
    }
   ],
   "source": [
    "#Get Stats\n",
    "NUM_WEEKS = 4  # Vary number to get experiment data at weekly points in time\n",
    "experiment_data = df[df['week'] <= NUM_WEEKS]\n",
    "control = experiment_data[experiment_data['group']=='control']\n",
    "treatment = experiment_data[experiment_data['group']=='treatment']\n",
    "\n",
    "control_conversion_perc = round(control['converted'].sum() * 100/ control['converted'].count(), 3)\n",
    "treatment_conversion_perc = round(treatment['converted'].sum() * 100/ treatment['converted'].count(), 3)\n",
    "lift = round(treatment_conversion_perc - control_conversion_perc, 3)\n",
    "\n",
    "print(f\"Treatment Conversion Rate: {treatment_conversion_perc}%\")\n",
    "print(f\"Control Conversion Rate: {control_conversion_perc}%\")\n",
    "print(f\"Lift = {lift}%\")"
   ]
  },
  {
   "cell_type": "markdown",
   "metadata": {},
   "source": [
    "**Chi-Squared Test**"
   ]
  },
  {
   "cell_type": "markdown",
   "metadata": {},
   "source": [
    "H0: Control and Treatment are independent\n",
    "\n",
    "HA: Control and Treatment are not independent\n"
   ]
  },
  {
   "cell_type": "code",
   "execution_count": 30,
   "metadata": {},
   "outputs": [
    {
     "data": {
      "text/plain": [
       "array([[ 17220, 126073],\n",
       "       [ 17025, 126372]], dtype=int64)"
      ]
     },
     "execution_count": 30,
     "metadata": {},
     "output_type": "execute_result"
    }
   ],
   "source": [
    "# Create Contingency Table for Chi Squared Test\n",
    "control_converted = control['converted'].sum()\n",
    "treatment_converted = treatment['converted'].sum()\n",
    "control_non_converted = control['converted'].count() - control_converted\n",
    "treatment_non_converted = treatment['converted'].count() - treatment_converted\n",
    "contingency_table = np.array([[control_converted, control_non_converted], \n",
    "                              [treatment_converted, treatment_non_converted]])\n",
    "contingency_table"
   ]
  },
  {
   "cell_type": "code",
   "execution_count": 28,
   "metadata": {},
   "outputs": [
    {
     "data": {
      "text/plain": [
       "(1.426794609399621, 0.23228827305833816)"
      ]
     },
     "execution_count": 28,
     "metadata": {},
     "output_type": "execute_result"
    }
   ],
   "source": [
    "chi, p_value, _, _ = chi2_contingency(contingency_table,correction = False)\n",
    "chi, p_value"
   ]
  },
  {
   "cell_type": "markdown",
   "metadata": {},
   "source": [
    "Since the p_value > 0.05, we cannot reject null hypothesis. Hence, we cannot conclude if there exists a relationship between the control and treatment groups"
   ]
  },
  {
   "cell_type": "code",
   "execution_count": 31,
   "metadata": {
    "scrolled": true
   },
   "outputs": [
    {
     "name": "stdout",
     "output_type": "stream",
     "text": [
      "23.23% probability that a more extreme chi square than 1.427 would have occured by chance\n"
     ]
    }
   ],
   "source": [
    "print(f\"{round(p_value * 100, 2)}% probability that a more extreme chi square than {round(chi, 3)} would have occured by chance\")\n"
   ]
  },
  {
   "cell_type": "markdown",
   "metadata": {},
   "source": [
    "But this is tough to interpret. We would to say something about the actual maginitude of lift. Something like this:"
   ]
  },
  {
   "cell_type": "code",
   "execution_count": 32,
   "metadata": {},
   "outputs": [
    {
     "name": "stdout",
     "output_type": "stream",
     "text": [
      "(We CANNOT say this) We are 23.23% confident that our lift = -0.144%\n"
     ]
    }
   ],
   "source": [
    "print(f\"(We CANNOT say this) We are {round(p_value * 100, 2)}% confident that our lift = {lift}%\")"
   ]
  },
  {
   "cell_type": "markdown",
   "metadata": {},
   "source": [
    "# Experiment: Bayesian Approach"
   ]
  },
  {
   "cell_type": "markdown",
   "metadata": {},
   "source": [
    "need to create prior distribution and have the experiment update the parameters to create posterier distributions\n",
    "\n",
    "Since these prior & posterior distributions will be used to sample Conversion Rate, we model them after beta distribtion.\n",
    "\n",
    "Let's create the prior beta distribtion from the first weeks of conversion data"
   ]
  },
  {
   "cell_type": "code",
   "execution_count": 33,
   "metadata": {},
   "outputs": [],
   "source": [
    "prior = df[(df['week']==1) & (df['group']=='control')]"
   ]
  },
  {
   "cell_type": "code",
   "execution_count": 34,
   "metadata": {},
   "outputs": [],
   "source": [
    "prior_means = []\n",
    "for i in range(10000):\n",
    "    prior_means.append(prior.sample(1000)['converted'].mean())\n",
    "    "
   ]
  },
  {
   "cell_type": "code",
   "execution_count": 36,
   "metadata": {},
   "outputs": [
    {
     "data": {
      "text/plain": [
       "[0.111, 0.135, 0.123, 0.124, 0.125, 0.121, 0.123, 0.122, 0.116, 0.131]"
      ]
     },
     "execution_count": 36,
     "metadata": {},
     "output_type": "execute_result"
    }
   ],
   "source": [
    "prior_means[:10]"
   ]
  },
  {
   "cell_type": "code",
   "execution_count": 37,
   "metadata": {},
   "outputs": [],
   "source": [
    "# Model Beta Distribution from sample means\n",
    "prior_alpha, prior_beta, _, _ = beta.fit(prior_means, floc =0, fscale =1 )"
   ]
  },
  {
   "cell_type": "code",
   "execution_count": 38,
   "metadata": {},
   "outputs": [
    {
     "name": "stdout",
     "output_type": "stream",
     "text": [
      "Treatment Conversion Rate: 11.909%\n",
      "Control Conversion Rate: 12.058%\n",
      "Lift = -0.012%\n"
     ]
    }
   ],
   "source": [
    "# Get Stats\n",
    "NUM_WEEKS = 4 # Vary number to get experiment data at weekly points in time\n",
    "experiment_data = df[(df['week'] > 1) & (df['week'] <= NUM_WEEKS)]\n",
    "control = experiment_data[experiment_data['group']=='control']\n",
    "treatment = experiment_data[experiment_data['group']=='treatment']\n",
    "\n",
    "control_conversion_perc = round(control['converted'].sum() * 100/ control['converted'].count(), 3)\n",
    "treatment_conversion_perc = round(treatment['converted'].sum() * 100/ treatment['converted'].count(), 3)\n",
    "lift = round((treatment_conversion_perc - control_conversion_perc) / control_conversion_perc , 3)\n",
    "\n",
    "print(f\"Treatment Conversion Rate: {treatment_conversion_perc}%\")\n",
    "print(f\"Control Conversion Rate: {control_conversion_perc}%\")\n",
    "print(f\"Lift = {lift}%\")"
   ]
  },
  {
   "cell_type": "code",
   "execution_count": 39,
   "metadata": {},
   "outputs": [
    {
     "name": "stdout",
     "output_type": "stream",
     "text": [
      "Probability that treatment > control: 14.7%\n"
     ]
    }
   ],
   "source": [
    "control_converted = control['converted'].sum()\n",
    "treatment_converted = treatment['converted'].sum()\n",
    "control_non_converted = control['converted'].count() - control_converted\n",
    "treatment_non_converted = treatment['converted'].count() - treatment_converted\n",
    "\n",
    "# Update Prior parameters with experiment conversion rates\n",
    "posterior_control = beta(prior_alpha + control_converted, prior_beta + control_non_converted)\n",
    "posterior_treatment = beta(prior_alpha + treatment_converted, prior_beta + treatment_non_converted)\n",
    "\n",
    "# sample from Posteriors\n",
    "control_samples = posterior_control.rvs(1000)\n",
    "treatment_samples = posterior_treatment.rvs(1000)\n",
    "probability = np.mean(treatment_samples > control_samples)\n",
    "print(f\"Probability that treatment > control: {probability * 100}%\")\n"
   ]
  },
  {
   "cell_type": "code",
   "execution_count": 40,
   "metadata": {},
   "outputs": [
    {
     "name": "stdout",
     "output_type": "stream",
     "text": [
      "Control Posterior: Mean: 0.12056268339547102, Variance: 1.0337127473264945e-06\n",
      "Treatment Posterior: Mean: 0.11909359341147184, Variance: 1.0246105411332793e-06\n"
     ]
    }
   ],
   "source": [
    "(control_mu),  (control_var) = posterior_control.stats()\n",
    "(treatment_mu), (treatment_var) = posterior_treatment.stats()\n",
    "print(f\"Control Posterior: Mean: {control_mu}, Variance: {control_var}\") \n",
    "print(f\"Treatment Posterior: Mean: {treatment_mu}, Variance: {treatment_var}\")"
   ]
  },
  {
   "cell_type": "markdown",
   "metadata": {},
   "source": [
    "We can even make statements like the following which are actionable:"
   ]
  },
  {
   "cell_type": "code",
   "execution_count": 41,
   "metadata": {},
   "outputs": [
    {
     "name": "stdout",
     "output_type": "stream",
     "text": [
      "Probability that we are seeing a 2% lift: 0.5%\n"
     ]
    }
   ],
   "source": [
    "lift_percentage = (treatment_samples - control_samples) / control_samples\n",
    "print(f\"Probability that we are seeing a 2% lift: {np.mean((100 * lift_percentage) > 2) * 100}%\")"
   ]
  },
  {
   "cell_type": "code",
   "execution_count": 51,
   "metadata": {
    "scrolled": true
   },
   "outputs": [
    {
     "name": "stdout",
     "output_type": "stream",
     "text": [
      "Treatment Conversion Rate: 11.817%\n",
      "Control Conversion Rate: 11.925%\n",
      "Lift = -0.009%\n"
     ]
    }
   ],
   "source": [
    "# Get Stats\n",
    "NUM_WEEKS = 2 # Vary number to get experiment data at weekly points in time\n",
    "experiment_data = df[(df['week'] > 1) & (df['week'] <= NUM_WEEKS)]\n",
    "control = experiment_data[experiment_data['group']=='control']\n",
    "treatment = experiment_data[experiment_data['group']=='treatment']\n",
    "\n",
    "control_conversion_perc = round(control['converted'].sum() * 100/ control['converted'].count(), 3)\n",
    "treatment_conversion_perc = round(treatment['converted'].sum() * 100/ treatment['converted'].count(), 3)\n",
    "lift = round((treatment_conversion_perc - control_conversion_perc) / control_conversion_perc , 3)\n",
    "\n",
    "print(f\"Treatment Conversion Rate: {treatment_conversion_perc}%\")\n",
    "print(f\"Control Conversion Rate: {control_conversion_perc}%\")\n",
    "print(f\"Lift = {lift}%\")"
   ]
  },
  {
   "cell_type": "code",
   "execution_count": 52,
   "metadata": {},
   "outputs": [
    {
     "name": "stdout",
     "output_type": "stream",
     "text": [
      "Probability that treatment > control: 30.0%\n"
     ]
    }
   ],
   "source": [
    "control_converted = control['converted'].sum()\n",
    "treatment_converted = treatment['converted'].sum()\n",
    "control_non_converted = control['converted'].count() - control_converted\n",
    "treatment_non_converted = treatment['converted'].count() - treatment_converted\n",
    "\n",
    "# Update Prior parameters with experiment conversion rates\n",
    "posterior_control = beta(prior_alpha + control_converted, prior_beta + control_non_converted)\n",
    "posterior_treatment = beta(prior_alpha + treatment_converted, prior_beta + treatment_non_converted)\n",
    "\n",
    "# sample from Posteriors\n",
    "control_samples = posterior_control.rvs(1000)\n",
    "treatment_samples = posterior_treatment.rvs(1000)\n",
    "probability = np.mean(treatment_samples > control_samples)\n",
    "print(f\"Probability that treatment > control: {probability * 100}%\")"
   ]
  },
  {
   "cell_type": "code",
   "execution_count": 53,
   "metadata": {},
   "outputs": [
    {
     "name": "stdout",
     "output_type": "stream",
     "text": [
      "Control Posterior: Mean: 0.11924940287183315, Variance: 2.249379451837147e-06\n",
      "Treatment Posterior: Mean: 0.11819606256462217, Variance: 2.231698930730576e-06\n"
     ]
    }
   ],
   "source": [
    "(control_mu),  (control_var) = posterior_control.stats()\n",
    "(treatment_mu), (treatment_var) = posterior_treatment.stats()\n",
    "print(f\"Control Posterior: Mean: {control_mu}, Variance: {control_var}\") \n",
    "print(f\"Treatment Posterior: Mean: {treatment_mu}, Variance: {treatment_var}\")"
   ]
  },
  {
   "cell_type": "code",
   "execution_count": 54,
   "metadata": {},
   "outputs": [
    {
     "name": "stdout",
     "output_type": "stream",
     "text": [
      "Probability that we are seeing a 2% lift: 5.3%\n"
     ]
    }
   ],
   "source": [
    "lift_percentage = (treatment_samples - control_samples) / control_samples\n",
    "print(f\"Probability that we are seeing a 2% lift: {np.mean((100 * lift_percentage) > 2) * 100}%\")"
   ]
  }
 ],
 "metadata": {
  "kernelspec": {
   "display_name": "Python 3",
   "language": "python",
   "name": "python3"
  },
  "language_info": {
   "codemirror_mode": {
    "name": "ipython",
    "version": 3
   },
   "file_extension": ".py",
   "mimetype": "text/x-python",
   "name": "python",
   "nbconvert_exporter": "python",
   "pygments_lexer": "ipython3",
   "version": "3.8.5"
  }
 },
 "nbformat": 4,
 "nbformat_minor": 4
}
